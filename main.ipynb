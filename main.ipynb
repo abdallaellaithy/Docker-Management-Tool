{
 "cells": [
  {
   "cell_type": "code",
   "execution_count": 2,
   "metadata": {},
   "outputs": [],
   "source": [
    "import tkinter as tk\n",
    "from PIL import Image, ImageTk\n",
    "import requests\n",
    "import json\n",
    "from tkinter import filedialog, simpledialog, messagebox\n",
    "import docker\n",
    "from docker.errors import APIError, NotFound\n",
    "import re\n",
    "import subprocess\n",
    "import sys\n",
    "from app import main as app_main  "
   ]
  },
  {
   "cell_type": "code",
   "execution_count": 3,
   "metadata": {},
   "outputs": [],
   "source": [
    "def execute_python_file(file_path):\n",
    "    try:\n",
    "        with open(file_path, 'r') as file:\n",
    "            python_code = file.read()\n",
    "            exec(python_code)\n",
    "            label.config(text=f\"Executed {file_path}\")\n",
    "    except FileNotFoundError:\n",
    "        label.config(text=\"File not found\")\n",
    "\n",
    "def button1_clicked():\n",
    "    execute_python_file(\"images.py\")\n",
    "    \n",
    "def button2_clicked():\n",
    "    app_main() \n",
    "\n",
    "def button3_clicked():\n",
    "    subprocess.Popen([\"python\", \"vm.py\"]) \n",
    "    \n",
    "# Create the main window\n",
    "window = tk.Tk()\n",
    "window.title(\"Cloud Project\")\n",
    "window.geometry(\"600x1000\") \n",
    "\n",
    "# Load and display an image\n",
    "image = Image.open(\"nile.png\")\n",
    "photo = ImageTk.PhotoImage(image)\n",
    "image_label = tk.Label(window, image=photo)\n",
    "image_label.pack()\n",
    "\n",
    "# Create a label with Times Roman font\n",
    "label_font = (\"Times\", 15, \"bold\")\n",
    "label = tk.Label(window, text=\"Choose Your Decision\", font=label_font)\n",
    "label.pack(pady=10)\n",
    "\n",
    "# Create three buttons with updated configurations\n",
    "button1 = tk.Button(window, text=\"Search & Pull (Images)\", command=button1_clicked, width=30, height=2, bg=\"blue\", fg=\"white\", font='Times')\n",
    "button2 = tk.Button(window, text=\"Build & Run (Image - Container)\", command=button2_clicked, width=30, height=2, bg=\"green\", fg=\"white\", font='Times')\n",
    "button3 = tk.Button(window, text=\"Create Virtual Machine\", command=button3_clicked, width=30, height=2,  bg=\"#CD5C5C\", fg=\"white\", font='Times')\n",
    "\n",
    "# Pack the buttons under the text, centered horizontally with padding\n",
    "button1.pack(side=tk.TOP, anchor=tk.CENTER, pady=5)\n",
    "button2.pack(side=tk.TOP, anchor=tk.CENTER, pady=5)\n",
    "button3.pack(side=tk.TOP, anchor=tk.CENTER, pady=5)\n",
    "\n",
    "# Run the main loop\n",
    "window.mainloop()"
   ]
  }
 ],
 "metadata": {
  "kernelspec": {
   "display_name": "Python 3",
   "language": "python",
   "name": "python3"
  },
  "language_info": {
   "codemirror_mode": {
    "name": "ipython",
    "version": 3
   },
   "file_extension": ".py",
   "mimetype": "text/x-python",
   "name": "python",
   "nbconvert_exporter": "python",
   "pygments_lexer": "ipython3",
   "version": "3.11.0"
  }
 },
 "nbformat": 4,
 "nbformat_minor": 2
}
